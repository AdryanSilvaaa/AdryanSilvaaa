{
  "nbformat": 4,
  "nbformat_minor": 0,
  "metadata": {
    "colab": {
      "provenance": [],
      "authorship_tag": "ABX9TyOGI5nTP9voeX6s4cbT+QrG",
      "include_colab_link": true
    },
    "kernelspec": {
      "name": "python3",
      "display_name": "Python 3"
    },
    "language_info": {
      "name": "python"
    }
  },
  "cells": [
    {
      "cell_type": "markdown",
      "metadata": {
        "id": "view-in-github",
        "colab_type": "text"
      },
      "source": [
        "<a href=\"https://colab.research.google.com/github/AdryanSilvaaa/AdryanSilvaaa/blob/main/exerc%C3%ADcios_phyton.ipynb\" target=\"_parent\"><img src=\"https://colab.research.google.com/assets/colab-badge.svg\" alt=\"Open In Colab\"/></a>"
      ]
    },
    {
      "cell_type": "code",
      "source": [
        "#variaveis e seus tipos\n",
        "x = 10\n",
        "nome = ' aluno'\n",
        "nota = 5.5\n",
        "fez_inscricao = True\n",
        "\n",
        "\n"
      ],
      "metadata": {
        "id": "GIl7BCAwLrk8"
      },
      "execution_count": 18,
      "outputs": []
    },
    {
      "cell_type": "code",
      "source": [
        "#exibindo o tipo da variavel\n",
        "\n",
        "print (type(x))\n",
        "print (type(nome))\n",
        "print (type(nota))\n",
        "print (type(fez_inscricao))\n",
        "\n",
        "\n"
      ],
      "metadata": {
        "id": "CznB25eALpyV"
      },
      "execution_count": null,
      "outputs": []
    },
    {
      "cell_type": "code",
      "source": [
        "nome = input (\"Digite seu nome\")\n",
        "#forma de mostrar uma string da variavel input\n",
        "print (f\"Ola {nome} esse foi seu primeiro codigo de phyton\" )"
      ],
      "metadata": {
        "id": "pcZZDNDCN4Ae"
      },
      "execution_count": null,
      "outputs": []
    },
    {
      "cell_type": "code",
      "source": [
        "Nota_1 = int(input(\"Digite a primeira nota\"))\n",
        "Nota_2 = int(input(\"Diginte a segunda nota\"))\n",
        "Nota_3 = int(input(\"Digite a terceira nota\"))\n",
        "Nota_4 = int(input(\"Digite a quarta nota\"))\n",
        "\n",
        "media = (Nota_1+Nota_2+Nota_3+Nota_4)/4\n",
        "\n",
        "if media >= 6:\n",
        "      situacao = \"aprovado\"\n",
        "\n",
        "else:\n",
        "      situacao = \"reprovado\"\n",
        "\n",
        "print (f\"A sua nota foi : {media}\")\n",
        "print (f\" situação do aluno é : {situacao}\")\n",
        "\n"
      ],
      "metadata": {
        "colab": {
          "base_uri": "https://localhost:8080/"
        },
        "id": "W--TlXDvPMRO",
        "outputId": "019c1aea-9c7d-4c37-d719-2cc7c4bf676c"
      },
      "execution_count": 31,
      "outputs": [
        {
          "output_type": "stream",
          "name": "stdout",
          "text": [
            "Digite a primeira nota5\n",
            "Diginte a segunda nota3\n",
            "Digite a terceira nota6\n",
            "Digite a quarta nota7\n",
            "A sua nota foi : 5.25\n",
            " situação do aluno é : reprovado\n"
          ]
        }
      ]
    },
    {
      "cell_type": "code",
      "source": [
        "#condições\n",
        "\n",
        "idade = int(input(\"digite sua idade\")) #variavel que vai perguntar e armazenar o um numero inteiro que é a idade\n",
        "\n",
        "#função/condição para validar o valor armazenado e dar um retorno\n",
        "if idade < 18 :\n",
        "  print(\"Voce ainda é de menor estude para ser rico\")\n",
        "elif idade >= 18 and idade < 65:\n",
        "    print(\"Voce ja é Adulto forme uma bela familia\")\n",
        "else :\n",
        "  print(\"Voce ja é idoso chegou a level açto do game\")\n",
        "\n",
        "\n"
      ],
      "metadata": {
        "colab": {
          "base_uri": "https://localhost:8080/"
        },
        "id": "OgVHWn1GS5qL",
        "outputId": "1863111c-648d-4e9e-e38a-6acb39026282"
      },
      "execution_count": 62,
      "outputs": [
        {
          "output_type": "stream",
          "name": "stdout",
          "text": [
            "digite sua idade10\n",
            "Voce ainda é de menor estude para ser rico\n"
          ]
        }
      ]
    },
    {
      "cell_type": "code",
      "source": [
        "\n",
        "\n",
        "\n",
        "\n",
        "idade = int(input(\"digite sua idade\")) #variavel que vai perguntar e armazenar o um numero inteiro que é a idade\n",
        "\n",
        "\n",
        "Filme_01 = \"Filmes infantil\"\n",
        "Filme_02 = \"Filmes Adolescentes\"\n",
        "Filme_03 = \"Pode assistir qualquer categoria de filmes\"\n",
        "\n",
        "\n",
        "\n",
        "#função/condição para validar o valor armazenado e dar um retorno\n",
        "if idade < 12 :\n",
        "  print(f\"Voce ainda é de menor estude então tem direito a assistir {Filme_01}\")\n",
        "elif idade >= 12 and idade < 18:\n",
        "    print(f\"sua idade so permite que pode assistir {Filme_02}\")\n",
        "else :\n",
        "  print(f\"Voce ja é Adulto {Filme_03}\")\n",
        "\n"
      ],
      "metadata": {
        "colab": {
          "base_uri": "https://localhost:8080/"
        },
        "id": "s1nnFrNIkWcv",
        "outputId": "04e66b86-9f1e-4be4-bc0a-01d38860eb4f"
      },
      "execution_count": 61,
      "outputs": [
        {
          "output_type": "stream",
          "name": "stdout",
          "text": [
            "digite sua idade17\n",
            "sua idade so permite que pode assistirFilmes Adolescentes\n"
          ]
        }
      ]
    },
    {
      "cell_type": "code",
      "source": [
        "#Repetição por quantidade\n",
        "\n",
        "for x in range(5):\n",
        " print (x)\n"
      ],
      "metadata": {
        "colab": {
          "base_uri": "https://localhost:8080/"
        },
        "id": "zLPstqVGoWtI",
        "outputId": "b8988a08-0ed9-4d14-fe6d-a11a0f2e7915"
      },
      "execution_count": 66,
      "outputs": [
        {
          "output_type": "stream",
          "name": "stdout",
          "text": [
            "0\n",
            "1\n",
            "2\n",
            "3\n",
            "4\n"
          ]
        }
      ]
    },
    {
      "cell_type": "code",
      "source": [
        "for y in range (2,7): #loop começa no 2 e termina 7 mais o 7 não entra\n",
        "  print (y)"
      ],
      "metadata": {
        "colab": {
          "base_uri": "https://localhost:8080/"
        },
        "id": "IA10xYoEvz6h",
        "outputId": "64ebd911-65d2-422a-8d4b-5376d5e89d7d"
      },
      "execution_count": 67,
      "outputs": [
        {
          "output_type": "stream",
          "name": "stdout",
          "text": [
            "2\n",
            "3\n",
            "4\n",
            "5\n",
            "6\n"
          ]
        }
      ]
    },
    {
      "cell_type": "code",
      "source": [
        "for z in range(1,11, 2):# o loop começa no 1 e termina no 11 pulando dois nomero\n",
        "  print (z)"
      ],
      "metadata": {
        "colab": {
          "base_uri": "https://localhost:8080/"
        },
        "id": "4v07LQvJwCeH",
        "outputId": "e1b641bc-2049-4a11-8fdb-a3e803601f97"
      },
      "execution_count": 70,
      "outputs": [
        {
          "output_type": "stream",
          "name": "stdout",
          "text": [
            "1\n",
            "4\n",
            "7\n",
            "10\n"
          ]
        }
      ]
    },
    {
      "cell_type": "code",
      "source": [
        "for numero in range(1,11):\n",
        "  if numero % 2 == 0: #quando a divisão do (numero) por 2 for igual a 0 o codigo para e mostra o valor\n",
        "    print(\"o primeiro numero par encontrado foi:\", numero)\n",
        "    break\n",
        "\n",
        "\n",
        "    #verifica o primeiro numero par"
      ],
      "metadata": {
        "colab": {
          "base_uri": "https://localhost:8080/"
        },
        "id": "BBQNRDSywTbo",
        "outputId": "0be153c4-95e8-40b3-fab9-93ffc084e65b"
      },
      "execution_count": 76,
      "outputs": [
        {
          "output_type": "stream",
          "name": "stdout",
          "text": [
            "o primeiro numero par encontrado foi: 8\n"
          ]
        }
      ]
    },
    {
      "cell_type": "code",
      "source": [
        "for numero in range (1,10):\n",
        "  if numero == 5:  # quando a variavel numero for igual a 5 o codigo vai continuar rodando\n",
        "    continue\n",
        "  print(numero)"
      ],
      "metadata": {
        "id": "Leg9NRk9xf7A"
      },
      "execution_count": null,
      "outputs": []
    },
    {
      "cell_type": "code",
      "source": [
        "\n",
        "#sistema de avaliação de filnmes\n",
        "\n",
        "filmes = [\"filme 1\", \"filme 2\", \"filme 3\"]\n",
        "\n",
        "print(\"Bem vindo a classificação de filmes\")\n",
        "print(\"Vocen tem tres filmes para avaliar\")\n",
        "print(\"Digite 0 para parar a qualquer momento\")\n",
        "\n",
        "for filme in filmes:\n",
        "  classificacao = int(input(f\"Digite uma nota de 1 a 10 para classificar {filme} :\"))\n",
        "  if classificacao == 0:\n",
        "    print(\"Obrigado por usar nossa sistema de avaliçao\")\n",
        "    break\n",
        "  if classificacao < 1 or classificacao > 10:\n",
        "        print(\"Por favor digite uma valor acima de 0 ou menor que 11\")\n",
        "  else:\n",
        "      print(f\"Voce classificou {filme} com {classificacao} estrelas\")\n",
        "\n",
        "print(\"Obrigado por usar nossa sistema de avaliçao\")"
      ],
      "metadata": {
        "colab": {
          "base_uri": "https://localhost:8080/"
        },
        "id": "9rFefSvHz6tV",
        "outputId": "475fa03b-8ff5-427b-cf41-4eee9ef066ad"
      },
      "execution_count": null,
      "outputs": [
        {
          "output_type": "stream",
          "name": "stdout",
          "text": [
            "Bem vindo a classificação de filmes\n",
            "Vocen tem tres filmes para avaliar\n",
            "Digite 0 para parar a qualquer momento\n"
          ]
        }
      ]
    },
    {
      "cell_type": "code",
      "source": [],
      "metadata": {
        "id": "4OXeDZcf2UFp"
      },
      "execution_count": 80,
      "outputs": []
    }
  ]
}